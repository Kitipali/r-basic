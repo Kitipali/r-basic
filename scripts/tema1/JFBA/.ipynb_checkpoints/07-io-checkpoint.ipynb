{
 "cells": [
  {
   "cell_type": "markdown",
   "id": "a029d359-fcb1-488f-8778-a18282f140f2",
   "metadata": {},
   "source": [
    "**Entrada y salida de datos**"
   ]
  },
  {
   "cell_type": "code",
   "execution_count": 1,
   "id": "f32d0822-a1cc-48cf-b1f5-84d50137a8e8",
   "metadata": {},
   "outputs": [
    {
     "name": "stdout",
     "output_type": "stream",
     "text": [
      "hola, me llamo Juanfran\n"
     ]
    }
   ],
   "source": [
    "print(\"hola, me llamo Juanfran\")"
   ]
  },
  {
   "cell_type": "code",
   "execution_count": 10,
   "id": "0abf5dd1-88e0-46db-889a-055c9f1ee220",
   "metadata": {},
   "outputs": [],
   "source": [
    "x=7"
   ]
  },
  {
   "cell_type": "code",
   "execution_count": 7,
   "id": "54b887e5-7e7f-466c-a05f-41b957dd7968",
   "metadata": {},
   "outputs": [
    {
     "name": "stdout",
     "output_type": "stream",
     "text": [
      "5\n"
     ]
    }
   ],
   "source": [
    "print(x)"
   ]
  },
  {
   "cell_type": "code",
   "execution_count": 11,
   "id": "a399c378-166a-4e02-bbcf-98e39208d038",
   "metadata": {},
   "outputs": [
    {
     "name": "stdout",
     "output_type": "stream",
     "text": [
      "El valor de la variable x es : 7\n"
     ]
    }
   ],
   "source": [
    "print(\"El valor de la variable x es : \" + str(x))"
   ]
  },
  {
   "cell_type": "code",
   "execution_count": 12,
   "id": "b4d4915b-3608-4440-b0c7-bf4b59597a1f",
   "metadata": {},
   "outputs": [
    {
     "name": "stdin",
     "output_type": "stream",
     "text": [
      "Introduce aquí tu nombre:  Juanfran\n"
     ]
    }
   ],
   "source": [
    "texto = input(\"Introduce aquí tu nombre: \") "
   ]
  },
  {
   "cell_type": "code",
   "execution_count": 13,
   "id": "fcbcbea1-124c-4365-aece-cc4e118bda20",
   "metadata": {},
   "outputs": [
    {
     "data": {
      "text/plain": [
       "'Juanfran'"
      ]
     },
     "execution_count": 13,
     "metadata": {},
     "output_type": "execute_result"
    }
   ],
   "source": [
    "texto"
   ]
  },
  {
   "cell_type": "code",
   "execution_count": 16,
   "id": "f789dea2-9776-4a71-861b-33db72c63bf0",
   "metadata": {},
   "outputs": [
    {
     "name": "stdin",
     "output_type": "stream",
     "text": [
      "Introduce aquí tu edad:  44\n"
     ]
    }
   ],
   "source": [
    "numero = int(input(\"Introduce aquí tu edad: \"))"
   ]
  },
  {
   "cell_type": "markdown",
   "id": "25764c17-4e42-40b9-9046-2920c5f8e1c0",
   "metadata": {},
   "source": [
    "**Operadores de decisión**\n"
   ]
  },
  {
   "cell_type": "code",
   "execution_count": 17,
   "id": "c449f4d2-e87b-4ff2-a2a0-0d8ec4913277",
   "metadata": {},
   "outputs": [
    {
     "ename": "SyntaxError",
     "evalue": "invalid syntax (2259744417.py, line 1)",
     "output_type": "error",
     "traceback": [
      "\u001b[1;36m  File \u001b[1;32m\"C:\\Users\\srmjf\\AppData\\Local\\Temp\\ipykernel_28116\\2259744417.py\"\u001b[1;36m, line \u001b[1;32m1\u001b[0m\n\u001b[1;33m    Si condicioón booleana:\u001b[0m\n\u001b[1;37m                ^\u001b[0m\n\u001b[1;31mSyntaxError\u001b[0m\u001b[1;31m:\u001b[0m invalid syntax\n"
     ]
    }
   ],
   "source": [
    "Si condicioón booleana:\n",
    "    código que se ejeciuta si la cond es verdadersa\n",
    "    ....\n",
    "    ...\n",
    "siguiente código que se ejecuta siempre"
   ]
  },
  {
   "cell_type": "markdown",
   "id": "04ed33e6-f71f-40b0-acad-454e649bce5c",
   "metadata": {},
   "source": [
    "**Funciones matemáticas**"
   ]
  },
  {
   "cell_type": "code",
   "execution_count": 21,
   "id": "c45b6029-bef7-486e-bcaf-db93c2bfa3b3",
   "metadata": {},
   "outputs": [
    {
     "data": {
      "text/plain": [
       "20.085536923187668"
      ]
     },
     "execution_count": 21,
     "metadata": {},
     "output_type": "execute_result"
    }
   ],
   "source": [
    "math.exp(3)"
   ]
  },
  {
   "cell_type": "code",
   "execution_count": 22,
   "id": "3303957c-9bcd-4a91-bdd9-b7065e8acc33",
   "metadata": {},
   "outputs": [
    {
     "data": {
      "text/plain": [
       "20.085536923187664"
      ]
     },
     "execution_count": 22,
     "metadata": {},
     "output_type": "execute_result"
    }
   ],
   "source": [
    "math.pow(math.e,3)"
   ]
  },
  {
   "cell_type": "code",
   "execution_count": 23,
   "id": "88b41034-49f1-47c2-848f-663831f2cb05",
   "metadata": {},
   "outputs": [
    {
     "data": {
      "text/plain": [
       "1.718281828459045"
      ]
     },
     "execution_count": 23,
     "metadata": {},
     "output_type": "execute_result"
    }
   ],
   "source": [
    "math.expm1(1)"
   ]
  },
  {
   "cell_type": "code",
   "execution_count": 24,
   "id": "a41f9fcd-a3b2-40a8-aab4-424fdeb16d3f",
   "metadata": {},
   "outputs": [
    {
     "data": {
      "text/plain": [
       "1.0000050000069649e-05"
      ]
     },
     "execution_count": 24,
     "metadata": {},
     "output_type": "execute_result"
    }
   ],
   "source": [
    "math.exp(1e-05)-1"
   ]
  },
  {
   "cell_type": "code",
   "execution_count": 26,
   "id": "72803bb9-96fd-4c8f-bb25-035b09d590ac",
   "metadata": {},
   "outputs": [
    {
     "data": {
      "text/plain": [
       "1.0000050000166667e-05"
      ]
     },
     "execution_count": 26,
     "metadata": {},
     "output_type": "execute_result"
    }
   ],
   "source": [
    "math.expm1(1e-05)"
   ]
  },
  {
   "cell_type": "code",
   "execution_count": 27,
   "id": "392d2d38-2877-4fe3-8c70-1a32e765a775",
   "metadata": {},
   "outputs": [
    {
     "data": {
      "text/plain": [
       "2.4849066497880004"
      ]
     },
     "execution_count": 27,
     "metadata": {},
     "output_type": "execute_result"
    }
   ],
   "source": [
    "math.log(12)"
   ]
  },
  {
   "cell_type": "code",
   "execution_count": 28,
   "id": "b972c5cc-ccee-4a4e-8096-2887c5f60c5e",
   "metadata": {},
   "outputs": [
    {
     "data": {
      "text/plain": [
       "3.5849625007211565"
      ]
     },
     "execution_count": 28,
     "metadata": {},
     "output_type": "execute_result"
    }
   ],
   "source": [
    "math.log(12,2)"
   ]
  },
  {
   "cell_type": "code",
   "execution_count": 29,
   "id": "a96fe00c-2ddc-47cd-9b79-82f507c13792",
   "metadata": {},
   "outputs": [
    {
     "data": {
      "text/plain": [
       "9.99995000033333e-06"
      ]
     },
     "execution_count": 29,
     "metadata": {},
     "output_type": "execute_result"
    }
   ],
   "source": [
    "math.log1p(1e-5)"
   ]
  },
  {
   "cell_type": "code",
   "execution_count": 35,
   "id": "6f9c9b94-e8a0-4c21-9a13-e2e2dd2d5d45",
   "metadata": {},
   "outputs": [
    {
     "data": {
      "text/plain": [
       "9.999950000398841e-06"
      ]
     },
     "execution_count": 35,
     "metadata": {},
     "output_type": "execute_result"
    }
   ],
   "source": [
    "math.log(1+ 1e-5)"
   ]
  },
  {
   "cell_type": "code",
   "execution_count": 36,
   "id": "92fba373-bcd6-480b-ac49-50230a2e7ec9",
   "metadata": {},
   "outputs": [
    {
     "data": {
      "text/plain": [
       "5.0"
      ]
     },
     "execution_count": 36,
     "metadata": {},
     "output_type": "execute_result"
    }
   ],
   "source": [
    "math.log2(32)"
   ]
  },
  {
   "cell_type": "code",
   "execution_count": 37,
   "id": "a6c2378c-73f5-4426-8404-3e3fe9575049",
   "metadata": {},
   "outputs": [
    {
     "data": {
      "text/plain": [
       "6.0"
      ]
     },
     "execution_count": 37,
     "metadata": {},
     "output_type": "execute_result"
    }
   ],
   "source": [
    "math.log10(1000000)"
   ]
  },
  {
   "cell_type": "code",
   "execution_count": 38,
   "id": "334d0a3e-1176-4f10-a6e2-d071a3f16785",
   "metadata": {},
   "outputs": [
    {
     "data": {
      "text/plain": [
       "-0.8011526357338304"
      ]
     },
     "execution_count": 38,
     "metadata": {},
     "output_type": "execute_result"
    }
   ],
   "source": [
    "math.sin(180) #radianes"
   ]
  },
  {
   "cell_type": "code",
   "execution_count": 39,
   "id": "a21ea10e-f50e-4c6b-a16e-ca56c1c61987",
   "metadata": {},
   "outputs": [
    {
     "data": {
      "text/plain": [
       "-1.0"
      ]
     },
     "execution_count": 39,
     "metadata": {},
     "output_type": "execute_result"
    }
   ],
   "source": [
    "math.cos(math.pi)"
   ]
  },
  {
   "cell_type": "code",
   "execution_count": 40,
   "id": "168e0aea-145d-4e9a-a1ff-4be970b112db",
   "metadata": {},
   "outputs": [
    {
     "data": {
      "text/plain": [
       "1.633123935319537e+16"
      ]
     },
     "execution_count": 40,
     "metadata": {},
     "output_type": "execute_result"
    }
   ],
   "source": [
    "math.tan(math.pi/2)"
   ]
  },
  {
   "cell_type": "code",
   "execution_count": 44,
   "id": "e4df7a04-87a4-44d6-afe7-3a4a03f91654",
   "metadata": {},
   "outputs": [
    {
     "data": {
      "text/plain": [
       "1.5707963267948966"
      ]
     },
     "execution_count": 44,
     "metadata": {},
     "output_type": "execute_result"
    }
   ],
   "source": [
    "math.asin(1)"
   ]
  },
  {
   "cell_type": "code",
   "execution_count": 45,
   "id": "e62416a3-d9ca-4919-9f25-266033d7c937",
   "metadata": {},
   "outputs": [
    {
     "data": {
      "text/plain": [
       "0.0"
      ]
     },
     "execution_count": 45,
     "metadata": {},
     "output_type": "execute_result"
    }
   ],
   "source": [
    "math.acos(1)"
   ]
  },
  {
   "cell_type": "code",
   "execution_count": 46,
   "id": "94e23f42-4432-45ea-a19e-1d2e24f0d4e5",
   "metadata": {},
   "outputs": [
    {
     "data": {
      "text/plain": [
       "0.7853981633974483"
      ]
     },
     "execution_count": 46,
     "metadata": {},
     "output_type": "execute_result"
    }
   ],
   "source": [
    "math.atan(1)"
   ]
  },
  {
   "cell_type": "code",
   "execution_count": 48,
   "id": "b893a6b9-cd72-4b1b-bb4c-72b9502f4ea6",
   "metadata": {},
   "outputs": [
    {
     "data": {
      "text/plain": [
       "45.0"
      ]
     },
     "execution_count": 48,
     "metadata": {},
     "output_type": "execute_result"
    }
   ],
   "source": [
    "math.degrees(0.7853981633974483)"
   ]
  },
  {
   "cell_type": "code",
   "execution_count": 49,
   "id": "021c3a35-549d-4e61-8dbc-547d52fdf5f5",
   "metadata": {},
   "outputs": [
    {
     "data": {
      "text/plain": [
       "1.0471975511965976"
      ]
     },
     "execution_count": 49,
     "metadata": {},
     "output_type": "execute_result"
    }
   ],
   "source": [
    "math.radians(60)"
   ]
  },
  {
   "cell_type": "code",
   "execution_count": 50,
   "id": "eb68a147-3443-4c5d-bd69-03ef1bf63b6e",
   "metadata": {},
   "outputs": [
    {
     "data": {
      "text/plain": [
       "0.5000000000000001"
      ]
     },
     "execution_count": 50,
     "metadata": {},
     "output_type": "execute_result"
    }
   ],
   "source": [
    "math.cos(math.radians(60))"
   ]
  },
  {
   "cell_type": "code",
   "execution_count": 52,
   "id": "0aad03cf-ca38-48e8-9f43-873ccb3fac17",
   "metadata": {},
   "outputs": [
    {
     "data": {
      "text/plain": [
       "5.0"
      ]
     },
     "execution_count": 52,
     "metadata": {},
     "output_type": "execute_result"
    }
   ],
   "source": [
    "math.hypot(3,4)  #norma euclídea.. Un vector de 3 de ancho y 4 de alto en total mide 5"
   ]
  },
  {
   "cell_type": "code",
   "execution_count": 54,
   "id": "a3e8f2d5-95e8-44fe-a32f-4f3a28130e52",
   "metadata": {},
   "outputs": [
    {
     "data": {
      "text/plain": [
       "5.0"
      ]
     },
     "execution_count": 54,
     "metadata": {},
     "output_type": "execute_result"
    }
   ],
   "source": [
    "math.sqrt(3**2+4**2)"
   ]
  },
  {
   "cell_type": "code",
   "execution_count": 57,
   "id": "d9129b07-615b-48f4-92c1-acb45ac13656",
   "metadata": {},
   "outputs": [
    {
     "data": {
      "text/plain": [
       "53.13010235415598"
      ]
     },
     "execution_count": 57,
     "metadata": {},
     "output_type": "execute_result"
    }
   ],
   "source": [
    "math.degrees(math.atan2(4, 3))\n",
    "#el ángulo que forma con el eje horizontal. En este caso  x e y están cambiados: (y,x) \n",
    "#Valor entre -pi y pi"
   ]
  },
  {
   "cell_type": "code",
   "execution_count": 59,
   "id": "740b7bb5-5387-457b-912b-61ac3b34da7e",
   "metadata": {},
   "outputs": [
    {
     "data": {
      "text/plain": [
       "0.0"
      ]
     },
     "execution_count": 59,
     "metadata": {},
     "output_type": "execute_result"
    }
   ],
   "source": [
    "math.sinh(0)"
   ]
  },
  {
   "cell_type": "code",
   "execution_count": 60,
   "id": "572c7076-6862-4457-abf7-74df6be2f2cf",
   "metadata": {},
   "outputs": [
    {
     "data": {
      "text/plain": [
       "1.0"
      ]
     },
     "execution_count": 60,
     "metadata": {},
     "output_type": "execute_result"
    }
   ],
   "source": [
    "math.cosh(0)"
   ]
  },
  {
   "cell_type": "code",
   "execution_count": 61,
   "id": "546b6c28-221f-4b95-bc31-103dc9fc122d",
   "metadata": {},
   "outputs": [
    {
     "data": {
      "text/plain": [
       "0.0"
      ]
     },
     "execution_count": 61,
     "metadata": {},
     "output_type": "execute_result"
    }
   ],
   "source": [
    "math.tanh(0)"
   ]
  },
  {
   "cell_type": "code",
   "execution_count": 62,
   "id": "8282c10d-63d1-40b1-95d3-ee18e277406b",
   "metadata": {},
   "outputs": [
    {
     "data": {
      "text/plain": [
       "0.0"
      ]
     },
     "execution_count": 62,
     "metadata": {},
     "output_type": "execute_result"
    }
   ],
   "source": [
    "math.erf(0)"
   ]
  },
  {
   "cell_type": "code",
   "execution_count": 64,
   "id": "8eb705e7-5bfc-446a-ad39-b2e3da504c94",
   "metadata": {},
   "outputs": [
    {
     "data": {
      "text/plain": [
       "0.9999911238536323"
      ]
     },
     "execution_count": 64,
     "metadata": {},
     "output_type": "execute_result"
    }
   ],
   "source": [
    "math.erf(math.pi) #Función de distribución acumulada de la distribución normal"
   ]
  },
  {
   "cell_type": "code",
   "execution_count": 67,
   "id": "882404fa-a650-48ac-a3a3-f6b50fa3caf8",
   "metadata": {},
   "outputs": [
    {
     "data": {
      "text/plain": [
       "8.876146367641612e-06"
      ]
     },
     "execution_count": 67,
     "metadata": {},
     "output_type": "execute_result"
    }
   ],
   "source": [
    "math.erfc(math.pi) #Función complementaria. Lo que le falta al número de arriba para llegar a 1"
   ]
  },
  {
   "cell_type": "code",
   "execution_count": 68,
   "id": "ae8f97d2-46c5-411f-b421-e46e9e8cd8fd",
   "metadata": {},
   "outputs": [
    {
     "data": {
      "text/plain": [
       "1.0"
      ]
     },
     "execution_count": 68,
     "metadata": {},
     "output_type": "execute_result"
    }
   ],
   "source": [
    "math.gamma(1)"
   ]
  },
  {
   "cell_type": "code",
   "execution_count": 69,
   "id": "ed56212e-7657-40da-a854-26531b9a60f4",
   "metadata": {},
   "outputs": [
    {
     "data": {
      "text/plain": [
       "3.178053830347945"
      ]
     },
     "execution_count": 69,
     "metadata": {},
     "output_type": "execute_result"
    }
   ],
   "source": [
    "math.lgamma(5)"
   ]
  },
  {
   "cell_type": "code",
   "execution_count": null,
   "id": "f9115ba7-a89a-4ea6-bf9b-5791143ac34d",
   "metadata": {},
   "outputs": [],
   "source": []
  }
 ],
 "metadata": {
  "kernelspec": {
   "display_name": "Python 3 (ipykernel)",
   "language": "python",
   "name": "python3"
  },
  "language_info": {
   "codemirror_mode": {
    "name": "ipython",
    "version": 3
   },
   "file_extension": ".py",
   "mimetype": "text/x-python",
   "name": "python",
   "nbconvert_exporter": "python",
   "pygments_lexer": "ipython3",
   "version": "3.7.16"
  }
 },
 "nbformat": 4,
 "nbformat_minor": 5
}
