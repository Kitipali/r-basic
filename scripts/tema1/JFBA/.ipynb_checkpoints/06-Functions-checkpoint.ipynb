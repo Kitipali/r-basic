{
 "cells": [
  {
   "cell_type": "markdown",
   "id": "9cf5e3d7-62b9-41c7-afca-61134bcb0de5",
   "metadata": {},
   "source": [
    "**Funciones en Python**"
   ]
  },
  {
   "cell_type": "code",
   "execution_count": 1,
   "id": "8ad73f00-3921-48e2-b292-2af1f0b1dd6b",
   "metadata": {},
   "outputs": [],
   "source": [
    "def suma(x,y):\n",
    "    return x+y"
   ]
  },
  {
   "cell_type": "code",
   "execution_count": 2,
   "id": "e27c6fad-24c3-4e89-a73c-5ab31262edcb",
   "metadata": {},
   "outputs": [],
   "source": [
    "class Operaciones(object):\n",
    "    def suma(self, x,y):\n",
    "        self.resultado= x+y\n",
    "        return self.resultado"
   ]
  },
  {
   "cell_type": "code",
   "execution_count": 3,
   "id": "17a1ac9d-b3a6-45d3-8b38-55707cae0c4a",
   "metadata": {},
   "outputs": [
    {
     "data": {
      "text/plain": [
       "5"
      ]
     },
     "execution_count": 3,
     "metadata": {},
     "output_type": "execute_result"
    }
   ],
   "source": [
    "suma(2,3)"
   ]
  },
  {
   "cell_type": "code",
   "execution_count": 4,
   "id": "4d7285fb-e356-47e8-8c53-32d590f47235",
   "metadata": {},
   "outputs": [
    {
     "data": {
      "text/plain": [
       "5"
      ]
     },
     "execution_count": 4,
     "metadata": {},
     "output_type": "execute_result"
    }
   ],
   "source": [
    "operInstance = Operaciones()\n",
    "operInstance.suma(2,3)"
   ]
  },
  {
   "cell_type": "code",
   "execution_count": 5,
   "id": "899b48bb-6cd4-40e2-b5b6-09f13fde2714",
   "metadata": {},
   "outputs": [],
   "source": [
    "def saludar():\n",
    "    print(\"Hola, estoy programando\")\n",
    "    return"
   ]
  },
  {
   "cell_type": "code",
   "execution_count": 6,
   "id": "28a86ef9-b059-4d92-a020-ed1837e2dc69",
   "metadata": {},
   "outputs": [
    {
     "name": "stdout",
     "output_type": "stream",
     "text": [
      "Hola, estoy programando\n"
     ]
    }
   ],
   "source": [
    "saludar()"
   ]
  },
  {
   "cell_type": "code",
   "execution_count": 11,
   "id": "0c173706-33cb-43e4-87c5-5f2474886f66",
   "metadata": {},
   "outputs": [],
   "source": [
    "def saludar():\n",
    "    name = str(input(\"Introduce tu nombre: \"))\n",
    "    if name:\n",
    "        print(\"Hola \"+ name)\n",
    "    else:\n",
    "        print(\"Hola, estoy programando!\")\n",
    "   "
   ]
  },
  {
   "cell_type": "code",
   "execution_count": 10,
   "id": "9dbbc8ae-134d-489e-ac89-578e98e89b39",
   "metadata": {},
   "outputs": [
    {
     "name": "stdin",
     "output_type": "stream",
     "text": [
      "Introduce tu nombre:  Juanfran\n"
     ]
    },
    {
     "name": "stdout",
     "output_type": "stream",
     "text": [
      "Hola Juanfran\n"
     ]
    }
   ],
   "source": [
    "saludar()"
   ]
  },
  {
   "cell_type": "code",
   "execution_count": 12,
   "id": "a3831e3d-22c9-43eb-bcc6-9a606fae6cf7",
   "metadata": {},
   "outputs": [],
   "source": [
    "def sumaresta(x,y):\n",
    "    suma = x+y\n",
    "    resta = x-y\n",
    "    return (suma, resta)\n",
    "    \n",
    "    \n",
    "    "
   ]
  },
  {
   "cell_type": "code",
   "execution_count": 13,
   "id": "b38231bd-c341-4878-91ac-06477cc2c3ff",
   "metadata": {},
   "outputs": [
    {
     "data": {
      "text/plain": [
       "(5, -1)"
      ]
     },
     "execution_count": 13,
     "metadata": {},
     "output_type": "execute_result"
    }
   ],
   "source": [
    "sumaresta(2,3)"
   ]
  },
  {
   "cell_type": "markdown",
   "id": "844f7eba-1a01-4a72-96af-aa174569009a",
   "metadata": {},
   "source": [
    "**Funciones Lambda**"
   ]
  },
  {
   "cell_type": "code",
   "execution_count": 15,
   "id": "8333372b-38e4-43f3-83ad-0e1b80fbf4eb",
   "metadata": {},
   "outputs": [],
   "source": [
    "def suma(*args): #el * antes de args quiere decir que no conozco el número de argumentos\n",
    "    return sum(args)"
   ]
  },
  {
   "cell_type": "code",
   "execution_count": 16,
   "id": "9818cb63-02f2-4b32-a184-9d1c4058fc36",
   "metadata": {},
   "outputs": [
    {
     "data": {
      "text/plain": [
       "3"
      ]
     },
     "execution_count": 16,
     "metadata": {},
     "output_type": "execute_result"
    }
   ],
   "source": [
    "suma(1,2)"
   ]
  },
  {
   "cell_type": "code",
   "execution_count": 17,
   "id": "95f898c0-8151-4fb9-b8f0-9e78ee6d35ec",
   "metadata": {},
   "outputs": [
    {
     "data": {
      "text/plain": [
       "10"
      ]
     },
     "execution_count": 17,
     "metadata": {},
     "output_type": "execute_result"
    }
   ],
   "source": [
    "suma(1,2,3,4)"
   ]
  },
  {
   "cell_type": "code",
   "execution_count": 20,
   "id": "55805047-10d1-4db7-94cf-9356288bc11a",
   "metadata": {},
   "outputs": [],
   "source": [
    "def sumacuadrados(*datos):\n",
    "    total = 0\n",
    "    for d in datos:\n",
    "        total += d**2\n",
    "    return total\n"
   ]
  },
  {
   "cell_type": "code",
   "execution_count": 21,
   "id": "e322e91e-a515-4418-8881-7e86fbe7dd0b",
   "metadata": {},
   "outputs": [
    {
     "data": {
      "text/plain": [
       "14"
      ]
     },
     "execution_count": 21,
     "metadata": {},
     "output_type": "execute_result"
    }
   ],
   "source": [
    "sumacuadrados(1,2,3)"
   ]
  },
  {
   "cell_type": "markdown",
   "id": "6e9f169d-ed23-4db7-ba53-e1048842013a",
   "metadata": {},
   "source": [
    "**Funciones anónimas / Lambda**"
   ]
  },
  {
   "cell_type": "code",
   "execution_count": 22,
   "id": "bacc4dad-6fc7-42cf-83aa-0569e6d45352",
   "metadata": {},
   "outputs": [],
   "source": [
    "doble = lambda x: x*2"
   ]
  },
  {
   "cell_type": "code",
   "execution_count": 23,
   "id": "04d31054-5cca-48dd-a27e-291ccc4a315b",
   "metadata": {},
   "outputs": [
    {
     "data": {
      "text/plain": [
       "8"
      ]
     },
     "execution_count": 23,
     "metadata": {},
     "output_type": "execute_result"
    }
   ],
   "source": [
    "doble(4)"
   ]
  },
  {
   "cell_type": "code",
   "execution_count": 24,
   "id": "18426f2f-abf7-4239-b835-c4a4f2c52ae2",
   "metadata": {},
   "outputs": [],
   "source": [
    "cuadrado = lambda x: x**2"
   ]
  },
  {
   "cell_type": "code",
   "execution_count": 25,
   "id": "ff5abfc6-c314-47aa-8a56-3eec9cd4d048",
   "metadata": {},
   "outputs": [
    {
     "data": {
      "text/plain": [
       "25"
      ]
     },
     "execution_count": 25,
     "metadata": {},
     "output_type": "execute_result"
    }
   ],
   "source": [
    "cuadrado(5)"
   ]
  },
  {
   "cell_type": "code",
   "execution_count": 26,
   "id": "2c38e9c8-2424-4c33-8b33-4a160cc489b6",
   "metadata": {},
   "outputs": [],
   "source": [
    "suma = lambda x, y: x+y"
   ]
  },
  {
   "cell_type": "code",
   "execution_count": 27,
   "id": "1d89502e-7776-4fed-8004-42fcdd6d4eb2",
   "metadata": {},
   "outputs": [
    {
     "data": {
      "text/plain": [
       "2"
      ]
     },
     "execution_count": 27,
     "metadata": {},
     "output_type": "execute_result"
    }
   ],
   "source": [
    "suma(1,1)"
   ]
  },
  {
   "cell_type": "code",
   "execution_count": 28,
   "id": "d54fc852-9238-410a-9e31-d20b5df51594",
   "metadata": {},
   "outputs": [],
   "source": [
    "from functools import reduce\n"
   ]
  },
  {
   "cell_type": "code",
   "execution_count": 29,
   "id": "a42d9e00-e5e4-4e62-913f-7054dab9be33",
   "metadata": {},
   "outputs": [],
   "source": [
    "data = [1,2,3,4,5,6,7,8,9,10]"
   ]
  },
  {
   "cell_type": "code",
   "execution_count": 32,
   "id": "b9d0b076-3a51-4b4b-8567-a58140bdc0dd",
   "metadata": {},
   "outputs": [],
   "source": [
    "filtered_data = list(filter(lambda x: (x*2>8), data))"
   ]
  },
  {
   "cell_type": "code",
   "execution_count": 33,
   "id": "55aef6fa-c637-4b4d-b8ea-58572cec0d15",
   "metadata": {},
   "outputs": [
    {
     "data": {
      "text/plain": [
       "[5, 6, 7, 8, 9, 10]"
      ]
     },
     "execution_count": 33,
     "metadata": {},
     "output_type": "execute_result"
    }
   ],
   "source": [
    "filtered_data"
   ]
  },
  {
   "cell_type": "code",
   "execution_count": 34,
   "id": "5e98ea59-0eec-4103-8b17-5ceb6d3ba8cb",
   "metadata": {},
   "outputs": [],
   "source": [
    "mapped_data = list(map(lambda x: x*2, data))"
   ]
  },
  {
   "cell_type": "code",
   "execution_count": 35,
   "id": "cb933639-6c53-4da4-9d77-f995d3964a57",
   "metadata": {},
   "outputs": [
    {
     "data": {
      "text/plain": [
       "[2, 4, 6, 8, 10, 12, 14, 16, 18, 20]"
      ]
     },
     "execution_count": 35,
     "metadata": {},
     "output_type": "execute_result"
    }
   ],
   "source": [
    "mapped_data"
   ]
  },
  {
   "cell_type": "code",
   "execution_count": 36,
   "id": "ae913874-d04b-443b-8fed-34f80310bc1a",
   "metadata": {},
   "outputs": [],
   "source": [
    "reduced_data = reduce(lambda x, y: x+y, data)"
   ]
  },
  {
   "cell_type": "code",
   "execution_count": 37,
   "id": "b08ace54-05c6-4041-80bb-1e2a2304180b",
   "metadata": {},
   "outputs": [
    {
     "data": {
      "text/plain": [
       "55"
      ]
     },
     "execution_count": 37,
     "metadata": {},
     "output_type": "execute_result"
    }
   ],
   "source": [
    "reduced_data"
   ]
  },
  {
   "cell_type": "code",
   "execution_count": 67,
   "id": "101cf488-9d27-44d3-9378-a0373696ee6b",
   "metadata": {},
   "outputs": [
    {
     "name": "stdin",
     "output_type": "stream",
     "text": [
      "Escribe un número:  1\n"
     ]
    },
    {
     "name": "stdout",
     "output_type": "stream",
     "text": [
      "El número 1 es positivo\n"
     ]
    }
   ],
   "source": [
    "# Ej 1\n",
    "def positivo_negativo():\n",
    "    x = int(input(\"Escribe un número: \"))\n",
    "    \n",
    "    if x > 0:\n",
    "        print(f\"El número {x} es positivo\")\n",
    "        \n",
    "    elif x== 0:\n",
    "        print(f\"El número {x} es cero\")\n",
    "    \n",
    "    else: \n",
    "        print(f\"El número {x} es negativo\")\n",
    "              \n",
    "              \n",
    "positivo_negativo()\n"
   ]
  },
  {
   "cell_type": "code",
   "execution_count": 72,
   "id": "c39076bc-2823-4f48-b5a4-6ce221e41eb5",
   "metadata": {},
   "outputs": [
    {
     "name": "stdin",
     "output_type": "stream",
     "text": [
      "Escribe un número:  28\n"
     ]
    },
    {
     "name": "stdout",
     "output_type": "stream",
     "text": [
      "El número 28 NO está en el rango [-5,5]\n"
     ]
    }
   ],
   "source": [
    "#Ej 2\n",
    "def EstaEnRango():\n",
    "    x = int(input(\"Escribe un número: \"))\n",
    "    if x in range (-5,6):\n",
    "        print(f\"El número {x} está en el rango [-5,5]\")\n",
    "    else: \n",
    "        print(f\"El número {x} NO está en el rango [-5,5]\")\n",
    "      \n",
    "EstaEnRango()\n",
    "    \n",
    "    \n",
    "    \n",
    "    "
   ]
  },
  {
   "cell_type": "code",
   "execution_count": 80,
   "id": "a2cbce33-8412-4937-81a0-192522d2a378",
   "metadata": {},
   "outputs": [
    {
     "name": "stdout",
     "output_type": "stream",
     "text": [
      "El punto (0,5) está sobre el eje vertical.\n",
      "El punto (6,0) está sobre el eje hotizontal.\n",
      "El punto (1,3) está en el el cuadrante I\n",
      "El punto (-1,-3) está en el el cuadrante III\n",
      "El punto (-1,3) está en el el cuadrante II\n",
      "El punto (0,0) está en el origen de coordenadas\n"
     ]
    }
   ],
   "source": [
    "#Ej 3\n",
    "def LecturaCoodenadas(x,y):\n",
    "    \n",
    "    if x == 0 and y ==0:\n",
    "        print(f\"El punto ({x},{y}) está en el origen de coordenadas\")\n",
    "    elif x == 0: \n",
    "        print(f\"El punto ({x},{y}) está sobre el eje vertical.\")\n",
    "    elif y == 0: \n",
    "        print(f\"El punto ({x},{y}) está sobre el eje hotizontal.\")\n",
    "    \n",
    "    elif x>0 and y >0:\n",
    "        print(f\"El punto ({x},{y}) está en el el cuadrante I\")\n",
    "    elif x<0 and y >0:\n",
    "        print(f\"El punto ({x},{y}) está en el el cuadrante II\")\n",
    "    elif x<0 and y <0:\n",
    "        print(f\"El punto ({x},{y}) está en el el cuadrante III\")\n",
    "    elif x<0 and y >0:\n",
    "        print(f\"El punto ({x},{y}) está en el el cuadrante IV\")\n",
    "        \n",
    "LecturaCoodenadas(0,5)\n",
    "LecturaCoodenadas(6,0)\n",
    "LecturaCoodenadas(1,3)\n",
    "LecturaCoodenadas(1,-3)\n",
    "LecturaCoodenadas(-1,-3)\n",
    "LecturaCoodenadas(-1,3)\n",
    "LecturaCoodenadas(0,0)\n",
    "\n"
   ]
  },
  {
   "cell_type": "code",
   "execution_count": 84,
   "id": "ca8bddc4-e00e-464a-874c-3053a5cb494b",
   "metadata": {},
   "outputs": [
    {
     "name": "stdout",
     "output_type": "stream",
     "text": [
      "El cociente de 7 y 2 es 3 y el resto es 1\n",
      "El cociente de 12.345 y 1 es 12.0 y el resto es 0.34500000000000064\n"
     ]
    }
   ],
   "source": [
    "#Ej 4\n",
    "def Cociente_Resto (a,b):\n",
    "    cociente = a//b\n",
    "    resto = a%b\n",
    "    print(f\"El cociente de {a} y {b} es {cociente} y el resto es {resto}\")\n",
    "\n",
    "Cociente_Resto(7,2)\n",
    "Cociente_Resto(12.345,1)\n"
   ]
  },
  {
   "cell_type": "code",
   "execution_count": 87,
   "id": "f4c9b3d0-62b6-4010-a55c-bcacfd8e9847",
   "metadata": {},
   "outputs": [
    {
     "name": "stdout",
     "output_type": "stream",
     "text": [
      "El número 5 NO es un cuadrado perfecto\n",
      "El número 6 NO es un cuadrado perfecto\n",
      "El número 16 es un cuadrado perfecto\n",
      "El número 25 es un cuadrado perfecto\n"
     ]
    }
   ],
   "source": [
    "#Ej 5\n",
    "\n",
    "import math\n",
    "def EsCuadradoPerfecto(x):\n",
    "    if math.sqrt(x)%1 == 0:\n",
    "        print(f\"El número {x} es un cuadrado perfecto\")\n",
    "    else:\n",
    "        print(f\"El número {x} NO es un cuadrado perfecto\")\n",
    "        \n",
    "              \n",
    "EsCuadradoPerfecto(5)\n",
    "EsCuadradoPerfecto(6)\n",
    "EsCuadradoPerfecto(16)\n",
    "EsCuadradoPerfecto(25)\n",
    "              "
   ]
  },
  {
   "cell_type": "code",
   "execution_count": 105,
   "id": "01f35d83-908b-45fb-bed8-cef0ed73d226",
   "metadata": {},
   "outputs": [
    {
     "name": "stdin",
     "output_type": "stream",
     "text": [
      "Escribe un año:  1994\n"
     ]
    },
    {
     "name": "stdout",
     "output_type": "stream",
     "text": [
      "El año 1994 NO es bisiesto\n"
     ]
    }
   ],
   "source": [
    "#Ej 6\n",
    "\n",
    "\n",
    "def EsAnoBisiesto():\n",
    "    x=int(input(\"Escribe un año: \"))\n",
    "    if x%4 == 0:\n",
    "        if x%100 ==0:\n",
    "            if x%400 ==0:\n",
    "                print(f\"El año {x} es bisiesto\")\n",
    "            else:\n",
    "                print(f\"El año {x} NO es bisiesto\")\n",
    "        else:\n",
    "            print(f\"El año {x} es bisiesto\")\n",
    "    else:    \n",
    "        print(f\"El año {x} NO es bisiesto\")\n",
    "EsAnoBisiesto()            "
   ]
  },
  {
   "cell_type": "code",
   "execution_count": 110,
   "id": "5661a391-ae63-4991-a8a2-5a58c7116891",
   "metadata": {},
   "outputs": [
    {
     "name": "stdout",
     "output_type": "stream",
     "text": [
      "Negro\n"
     ]
    }
   ],
   "source": [
    "#Ej 7\n",
    "\n",
    "def negro_blanco (letra:str,numero:int):\n",
    "    letras: dict[str,int] = {\"A\": 1,\"B\": 2, \"C\": 3, \"D\":4, \"E\":5, \"F\": 6, \"G\": 7, \"H\": 8}\n",
    "    numero1: int = numero\n",
    "    numero2: int = letras[letra]\n",
    "    if (numero1 + numero2)%2 == 0:\n",
    "        return \"Negro\"\n",
    "    else:\n",
    "        return \"Blanco\"\n",
    "print(negro_blanco('H',8))\n",
    "     \n",
    "                             "
   ]
  },
  {
   "cell_type": "code",
   "execution_count": null,
   "id": "8ceed351-779e-4c8b-9072-84758c11704c",
   "metadata": {},
   "outputs": [],
   "source": []
  }
 ],
 "metadata": {
  "kernelspec": {
   "display_name": "Python 3 (ipykernel)",
   "language": "python",
   "name": "python3"
  },
  "language_info": {
   "codemirror_mode": {
    "name": "ipython",
    "version": 3
   },
   "file_extension": ".py",
   "mimetype": "text/x-python",
   "name": "python",
   "nbconvert_exporter": "python",
   "pygments_lexer": "ipython3",
   "version": "3.7.16"
  }
 },
 "nbformat": 4,
 "nbformat_minor": 5
}
